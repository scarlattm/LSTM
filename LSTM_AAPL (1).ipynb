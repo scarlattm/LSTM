{
  "nbformat": 4,
  "nbformat_minor": 0,
  "metadata": {
    "colab": {
      "name": "LSTM AAPL",
      "provenance": []
    },
    "kernelspec": {
      "name": "python3",
      "display_name": "Python 3"
    },
    "language_info": {
      "name": "python"
    }
  },
  "cells": [
    {
      "cell_type": "code",
      "metadata": {
        "id": "lWrvD8qHrui_"
      },
      "source": [
        "import pandas as pd\n",
        "import numpy as np\n",
        "import math\n",
        "import pandas_datareader as web\n",
        "from sklearn.preprocessing import MinMaxScaler\n",
        "from keras.models import Sequential\n",
        "from keras.layers import Dense, LSTM \n",
        "import matplotlib.pyplot as plt \n",
        "plt.style.use('fivethirtyeight')"
      ],
      "execution_count": null,
      "outputs": []
    },
    {
      "cell_type": "code",
      "metadata": {
        "id": "ynrOJTI5wpwE",
        "colab": {
          "base_uri": "https://localhost:8080/",
          "height": 447
        },
        "outputId": "914a5ff1-f882-4743-d1d9-8f6e9ca18876"
      },
      "source": [
        "df = web.DataReader('QQQ', data_source='yahoo', start='2000-01-01', end='2021-05-25')\n",
        "df"
      ],
      "execution_count": null,
      "outputs": [
        {
          "output_type": "execute_result",
          "data": {
            "text/html": [
              "<div>\n",
              "<style scoped>\n",
              "    .dataframe tbody tr th:only-of-type {\n",
              "        vertical-align: middle;\n",
              "    }\n",
              "\n",
              "    .dataframe tbody tr th {\n",
              "        vertical-align: top;\n",
              "    }\n",
              "\n",
              "    .dataframe thead th {\n",
              "        text-align: right;\n",
              "    }\n",
              "</style>\n",
              "<table border=\"1\" class=\"dataframe\">\n",
              "  <thead>\n",
              "    <tr style=\"text-align: right;\">\n",
              "      <th></th>\n",
              "      <th>High</th>\n",
              "      <th>Low</th>\n",
              "      <th>Open</th>\n",
              "      <th>Close</th>\n",
              "      <th>Volume</th>\n",
              "      <th>Adj Close</th>\n",
              "    </tr>\n",
              "    <tr>\n",
              "      <th>Date</th>\n",
              "      <th></th>\n",
              "      <th></th>\n",
              "      <th></th>\n",
              "      <th></th>\n",
              "      <th></th>\n",
              "      <th></th>\n",
              "    </tr>\n",
              "  </thead>\n",
              "  <tbody>\n",
              "    <tr>\n",
              "      <th>2000-01-03</th>\n",
              "      <td>96.187500</td>\n",
              "      <td>90.750000</td>\n",
              "      <td>96.187500</td>\n",
              "      <td>94.750000</td>\n",
              "      <td>36345200.0</td>\n",
              "      <td>82.267441</td>\n",
              "    </tr>\n",
              "    <tr>\n",
              "      <th>2000-01-04</th>\n",
              "      <td>93.500000</td>\n",
              "      <td>87.937500</td>\n",
              "      <td>92.000000</td>\n",
              "      <td>88.250000</td>\n",
              "      <td>33786600.0</td>\n",
              "      <td>76.623764</td>\n",
              "    </tr>\n",
              "    <tr>\n",
              "      <th>2000-01-05</th>\n",
              "      <td>89.625000</td>\n",
              "      <td>84.250000</td>\n",
              "      <td>87.500000</td>\n",
              "      <td>86.000000</td>\n",
              "      <td>42496600.0</td>\n",
              "      <td>74.670212</td>\n",
              "    </tr>\n",
              "    <tr>\n",
              "      <th>2000-01-06</th>\n",
              "      <td>88.000000</td>\n",
              "      <td>79.750000</td>\n",
              "      <td>86.875000</td>\n",
              "      <td>80.093750</td>\n",
              "      <td>37134800.0</td>\n",
              "      <td>69.542053</td>\n",
              "    </tr>\n",
              "    <tr>\n",
              "      <th>2000-01-07</th>\n",
              "      <td>90.000000</td>\n",
              "      <td>82.500000</td>\n",
              "      <td>82.937500</td>\n",
              "      <td>90.000000</td>\n",
              "      <td>28138200.0</td>\n",
              "      <td>78.143234</td>\n",
              "    </tr>\n",
              "    <tr>\n",
              "      <th>...</th>\n",
              "      <td>...</td>\n",
              "      <td>...</td>\n",
              "      <td>...</td>\n",
              "      <td>...</td>\n",
              "      <td>...</td>\n",
              "      <td>...</td>\n",
              "    </tr>\n",
              "    <tr>\n",
              "      <th>2021-05-19</th>\n",
              "      <td>322.899994</td>\n",
              "      <td>316.299988</td>\n",
              "      <td>316.660004</td>\n",
              "      <td>322.589996</td>\n",
              "      <td>66319100.0</td>\n",
              "      <td>322.216217</td>\n",
              "    </tr>\n",
              "    <tr>\n",
              "      <th>2021-05-20</th>\n",
              "      <td>329.709991</td>\n",
              "      <td>323.890015</td>\n",
              "      <td>324.119995</td>\n",
              "      <td>328.829987</td>\n",
              "      <td>46466100.0</td>\n",
              "      <td>328.448975</td>\n",
              "    </tr>\n",
              "    <tr>\n",
              "      <th>2021-05-21</th>\n",
              "      <td>330.859985</td>\n",
              "      <td>326.640015</td>\n",
              "      <td>330.429993</td>\n",
              "      <td>327.010010</td>\n",
              "      <td>50330400.0</td>\n",
              "      <td>326.631104</td>\n",
              "    </tr>\n",
              "    <tr>\n",
              "      <th>2021-05-24</th>\n",
              "      <td>333.670013</td>\n",
              "      <td>326.899994</td>\n",
              "      <td>329.369995</td>\n",
              "      <td>332.510010</td>\n",
              "      <td>32475800.0</td>\n",
              "      <td>332.124756</td>\n",
              "    </tr>\n",
              "    <tr>\n",
              "      <th>2021-05-25</th>\n",
              "      <td>334.809998</td>\n",
              "      <td>331.760010</td>\n",
              "      <td>334.070007</td>\n",
              "      <td>332.970001</td>\n",
              "      <td>31280300.0</td>\n",
              "      <td>332.584198</td>\n",
              "    </tr>\n",
              "  </tbody>\n",
              "</table>\n",
              "<p>5383 rows × 6 columns</p>\n",
              "</div>"
            ],
            "text/plain": [
              "                  High         Low  ...      Volume   Adj Close\n",
              "Date                                ...                        \n",
              "2000-01-03   96.187500   90.750000  ...  36345200.0   82.267441\n",
              "2000-01-04   93.500000   87.937500  ...  33786600.0   76.623764\n",
              "2000-01-05   89.625000   84.250000  ...  42496600.0   74.670212\n",
              "2000-01-06   88.000000   79.750000  ...  37134800.0   69.542053\n",
              "2000-01-07   90.000000   82.500000  ...  28138200.0   78.143234\n",
              "...                ...         ...  ...         ...         ...\n",
              "2021-05-19  322.899994  316.299988  ...  66319100.0  322.216217\n",
              "2021-05-20  329.709991  323.890015  ...  46466100.0  328.448975\n",
              "2021-05-21  330.859985  326.640015  ...  50330400.0  326.631104\n",
              "2021-05-24  333.670013  326.899994  ...  32475800.0  332.124756\n",
              "2021-05-25  334.809998  331.760010  ...  31280300.0  332.584198\n",
              "\n",
              "[5383 rows x 6 columns]"
            ]
          },
          "metadata": {
            "tags": []
          },
          "execution_count": 15
        }
      ]
    },
    {
      "cell_type": "code",
      "metadata": {
        "id": "YY7gDPOrxhr8",
        "colab": {
          "base_uri": "https://localhost:8080/"
        },
        "outputId": "ba1ccd93-4d98-4b8a-cd18-9f933083fd69"
      },
      "source": [
        "data = df.filter(['Close'])\n",
        "dataset = data.values\n",
        "training_data_len = math.ceil(len(dataset)* .8)\n",
        "training_data_len"
      ],
      "execution_count": null,
      "outputs": [
        {
          "output_type": "execute_result",
          "data": {
            "text/plain": [
              "4307"
            ]
          },
          "metadata": {
            "tags": []
          },
          "execution_count": 16
        }
      ]
    },
    {
      "cell_type": "code",
      "metadata": {
        "id": "hbdZu_VVxhA0",
        "colab": {
          "base_uri": "https://localhost:8080/"
        },
        "outputId": "6c0805cc-8446-4b3b-bc43-502d2d5bda32"
      },
      "source": [
        "scaler = MinMaxScaler(feature_range=(0,1))\n",
        "scaled_data=scaler.fit_transform(dataset)\n",
        "scaled_data"
      ],
      "execution_count": null,
      "outputs": [
        {
          "output_type": "execute_result",
          "data": {
            "text/plain": [
              "array([[0.23199254],\n",
              "       [0.21180307],\n",
              "       [0.20481441],\n",
              "       ...,\n",
              "       [0.95340892],\n",
              "       [0.97049231],\n",
              "       [0.97192108]])"
            ]
          },
          "metadata": {
            "tags": []
          },
          "execution_count": 17
        }
      ]
    },
    {
      "cell_type": "code",
      "metadata": {
        "id": "EIZCY75FyYzm",
        "colab": {
          "base_uri": "https://localhost:8080/"
        },
        "outputId": "ac0947cd-4840-4959-e8ed-ff5ace37b31a"
      },
      "source": [
        "train_data = scaled_data[0:training_data_len , :]\n",
        "x_train = []\n",
        "y_train = []\n",
        "for i in range(60, len(train_data)):\n",
        "  x_train.append(train_data[i-60:i, 0])\n",
        "  y_train.append(train_data[i, 0])\n",
        "  if i <= 61:\n",
        "    print(x_train)\n",
        "    print(y_train)\n",
        "    print()\n",
        "    "
      ],
      "execution_count": null,
      "outputs": [
        {
          "output_type": "stream",
          "text": [
            "[array([0.23199254, 0.21180307, 0.20481441, 0.18646917, 0.2172387 ,\n",
            "       0.22500388, 0.21102655, 0.20500854, 0.22112129, 0.22772169,\n",
            "       0.22927473, 0.23587513, 0.23296319, 0.23665165, 0.22228606,\n",
            "       0.22655691, 0.21490914, 0.21898586, 0.20481441, 0.21626805,\n",
            "       0.22374204, 0.22616865, 0.23742817, 0.23946653, 0.24364031,\n",
            "       0.25645286, 0.24519335, 0.25528808, 0.24791116, 0.2475229 ,\n",
            "       0.24975539, 0.24829942, 0.25489982, 0.24344618, 0.24441683,\n",
            "       0.26150023, 0.26848889, 0.26091784, 0.26072371, 0.26926541,\n",
            "       0.27198322, 0.26424231, 0.28266034, 0.28537816, 0.28013666,\n",
            "       0.28324273, 0.2948905 , 0.29333747, 0.28401925, 0.2712067 ,\n",
            "       0.25722938, 0.27547755, 0.28188383, 0.27217735, 0.28479577,\n",
            "       0.29178443, 0.29799658, 0.30284981, 0.3034322 , 0.29411399])]\n",
            "[0.27936014181312885]\n",
            "\n",
            "[array([0.23199254, 0.21180307, 0.20481441, 0.18646917, 0.2172387 ,\n",
            "       0.22500388, 0.21102655, 0.20500854, 0.22112129, 0.22772169,\n",
            "       0.22927473, 0.23587513, 0.23296319, 0.23665165, 0.22228606,\n",
            "       0.22655691, 0.21490914, 0.21898586, 0.20481441, 0.21626805,\n",
            "       0.22374204, 0.22616865, 0.23742817, 0.23946653, 0.24364031,\n",
            "       0.25645286, 0.24519335, 0.25528808, 0.24791116, 0.2475229 ,\n",
            "       0.24975539, 0.24829942, 0.25489982, 0.24344618, 0.24441683,\n",
            "       0.26150023, 0.26848889, 0.26091784, 0.26072371, 0.26926541,\n",
            "       0.27198322, 0.26424231, 0.28266034, 0.28537816, 0.28013666,\n",
            "       0.28324273, 0.2948905 , 0.29333747, 0.28401925, 0.2712067 ,\n",
            "       0.25722938, 0.27547755, 0.28188383, 0.27217735, 0.28479577,\n",
            "       0.29178443, 0.29799658, 0.30284981, 0.3034322 , 0.29411399]), array([0.21180307, 0.20481441, 0.18646917, 0.2172387 , 0.22500388,\n",
            "       0.21102655, 0.20500854, 0.22112129, 0.22772169, 0.22927473,\n",
            "       0.23587513, 0.23296319, 0.23665165, 0.22228606, 0.22655691,\n",
            "       0.21490914, 0.21898586, 0.20481441, 0.21626805, 0.22374204,\n",
            "       0.22616865, 0.23742817, 0.23946653, 0.24364031, 0.25645286,\n",
            "       0.24519335, 0.25528808, 0.24791116, 0.2475229 , 0.24975539,\n",
            "       0.24829942, 0.25489982, 0.24344618, 0.24441683, 0.26150023,\n",
            "       0.26848889, 0.26091784, 0.26072371, 0.26926541, 0.27198322,\n",
            "       0.26424231, 0.28266034, 0.28537816, 0.28013666, 0.28324273,\n",
            "       0.2948905 , 0.29333747, 0.28401925, 0.2712067 , 0.25722938,\n",
            "       0.27547755, 0.28188383, 0.27217735, 0.28479577, 0.29178443,\n",
            "       0.29799658, 0.30284981, 0.3034322 , 0.29411399, 0.27936014])]\n",
            "[0.27936014181312885, 0.27081844306480385]\n",
            "\n"
          ],
          "name": "stdout"
        }
      ]
    },
    {
      "cell_type": "code",
      "metadata": {
        "id": "WLhhM0Wn0eph",
        "colab": {
          "base_uri": "https://localhost:8080/"
        },
        "outputId": "c9b0cfe2-3c7f-400b-be7e-6f5ae5087d19"
      },
      "source": [
        "x_train, y_train = np.array(x_train), np.array(y_train)\n",
        "x_train = np.reshape(x_train, (x_train.shape[0], x_train.shape[1], 1))\n",
        "\n",
        "print(x_train.shape)"
      ],
      "execution_count": null,
      "outputs": [
        {
          "output_type": "stream",
          "text": [
            "(4247, 60, 1)\n"
          ],
          "name": "stdout"
        }
      ]
    },
    {
      "cell_type": "code",
      "metadata": {
        "id": "2WeWJRVM15er"
      },
      "source": [
        "model = Sequential()\n",
        "model.add(LSTM(50, return_sequences=True, input_shape= (x_train.shape[1],1)))\n",
        "model.add(LSTM(50, return_sequences = False))\n",
        "model.add(Dense(25))\n",
        "model.add(Dense(1))"
      ],
      "execution_count": null,
      "outputs": []
    },
    {
      "cell_type": "code",
      "metadata": {
        "id": "WONhf5zx2wvz"
      },
      "source": [
        "model.compile(optimizer='adam',loss='mean_squared_error')"
      ],
      "execution_count": null,
      "outputs": []
    },
    {
      "cell_type": "code",
      "metadata": {
        "id": "oCR79L6_256b",
        "colab": {
          "base_uri": "https://localhost:8080/"
        },
        "outputId": "75cdbc6e-6f05-4c84-abb9-b1d41527e86a"
      },
      "source": [
        "model.fit(x_train, y_train, batch_size=1, epochs=1)"
      ],
      "execution_count": null,
      "outputs": [
        {
          "output_type": "stream",
          "text": [
            "4247/4247 [==============================] - 94s 22ms/step - loss: 2.1104e-04\n"
          ],
          "name": "stdout"
        },
        {
          "output_type": "execute_result",
          "data": {
            "text/plain": [
              "<keras.callbacks.History at 0x7f2db4f32410>"
            ]
          },
          "metadata": {
            "tags": []
          },
          "execution_count": 22
        }
      ]
    },
    {
      "cell_type": "code",
      "metadata": {
        "id": "LWynyLTt3OjI"
      },
      "source": [
        "test_data = scaled_data[training_data_len - 60: , :]\n",
        "x_test = []\n",
        "y_test = dataset[training_data_len:, :]\n",
        "for i in range(60,len(test_data)):\n",
        "  x_test.append(test_data[i-60:i,0])"
      ],
      "execution_count": null,
      "outputs": []
    },
    {
      "cell_type": "code",
      "metadata": {
        "colab": {
          "base_uri": "https://localhost:8080/"
        },
        "id": "k80Qzb8i3tTv",
        "outputId": "3abd826a-f570-4009-eb12-20b6ffde6e69"
      },
      "source": [
        "x_test = np.array(x_test)\n",
        "x_test = np.reshape(x_test, (x_test.shape[0], x_test.shape[1], 1))\n",
        "predictions = model.predict(x_test)\n",
        "predictions = scaler.inverse_transform(predictions)\n",
        "rmse = np.sqrt(np.mean(predictions - y_test)**2)\n",
        "print(rmse)"
      ],
      "execution_count": null,
      "outputs": [
        {
          "output_type": "stream",
          "text": [
            "0.6280475885894662\n"
          ],
          "name": "stdout"
        }
      ]
    },
    {
      "cell_type": "code",
      "metadata": {
        "colab": {
          "base_uri": "https://localhost:8080/",
          "height": 659
        },
        "id": "cCKC2WGa43H-",
        "outputId": "21b0b948-abb8-458c-ad4f-989db3c97019"
      },
      "source": [
        "train = data[:training_data_len]\n",
        "valid = data[training_data_len:]\n",
        "valid['Predictions'] = predictions\n",
        "plt.figure(figsize=(16,8))\n",
        "plt.title('Model')\n",
        "plt.xlabel('Date',fontsize=18)\n",
        "plt.ylabel('Close Price USD', fontsize=18)\n",
        "plt.plot(train['Close'])\n",
        "plt.plot(valid[['Close','Predictions']])\n",
        "plt.legend(['Train','Val','Predictions'], loc='lower right')\n",
        "plt.show()\n",
        "\n"
      ],
      "execution_count": null,
      "outputs": [
        {
          "output_type": "stream",
          "text": [
            "/usr/local/lib/python3.7/dist-packages/ipykernel_launcher.py:3: SettingWithCopyWarning: \n",
            "A value is trying to be set on a copy of a slice from a DataFrame.\n",
            "Try using .loc[row_indexer,col_indexer] = value instead\n",
            "\n",
            "See the caveats in the documentation: https://pandas.pydata.org/pandas-docs/stable/user_guide/indexing.html#returning-a-view-versus-a-copy\n",
            "  This is separate from the ipykernel package so we can avoid doing imports until\n"
          ],
          "name": "stderr"
        },
        {
          "output_type": "display_data",
          "data": {
            "image/png": "[encoded data removed]",
            "text/plain": [
              "<Figure size 1152x576 with 1 Axes>"
            ]
          },
          "metadata": {
            "tags": []
          }
        }
      ]
    },
    {
      "cell_type": "code",
      "metadata": {
        "colab": {
          "base_uri": "https://localhost:8080/",
          "height": 447
        },
        "id": "6_ZxswPt6sT8",
        "outputId": "227e9954-494d-46ba-d5bc-640dae7a9050"
      },
      "source": [
        "valid"
      ],
      "execution_count": null,
      "outputs": [
        {
          "output_type": "execute_result",
          "data": {
            "text/html": [
              "<div>\n",
              "<style scoped>\n",
              "    .dataframe tbody tr th:only-of-type {\n",
              "        vertical-align: middle;\n",
              "    }\n",
              "\n",
              "    .dataframe tbody tr th {\n",
              "        vertical-align: top;\n",
              "    }\n",
              "\n",
              "    .dataframe thead th {\n",
              "        text-align: right;\n",
              "    }\n",
              "</style>\n",
              "<table border=\"1\" class=\"dataframe\">\n",
              "  <thead>\n",
              "    <tr style=\"text-align: right;\">\n",
              "      <th></th>\n",
              "      <th>Close</th>\n",
              "      <th>Predictions</th>\n",
              "    </tr>\n",
              "    <tr>\n",
              "      <th>Date</th>\n",
              "      <th></th>\n",
              "      <th></th>\n",
              "    </tr>\n",
              "  </thead>\n",
              "  <tbody>\n",
              "    <tr>\n",
              "      <th>2017-02-15</th>\n",
              "      <td>129.289993</td>\n",
              "      <td>129.651855</td>\n",
              "    </tr>\n",
              "    <tr>\n",
              "      <th>2017-02-16</th>\n",
              "      <td>129.250000</td>\n",
              "      <td>130.151642</td>\n",
              "    </tr>\n",
              "    <tr>\n",
              "      <th>2017-02-17</th>\n",
              "      <td>129.809998</td>\n",
              "      <td>130.568115</td>\n",
              "    </tr>\n",
              "    <tr>\n",
              "      <th>2017-02-21</th>\n",
              "      <td>130.449997</td>\n",
              "      <td>130.977112</td>\n",
              "    </tr>\n",
              "    <tr>\n",
              "      <th>2017-02-22</th>\n",
              "      <td>130.500000</td>\n",
              "      <td>131.420258</td>\n",
              "    </tr>\n",
              "    <tr>\n",
              "      <th>...</th>\n",
              "      <td>...</td>\n",
              "      <td>...</td>\n",
              "    </tr>\n",
              "    <tr>\n",
              "      <th>2021-05-19</th>\n",
              "      <td>322.589996</td>\n",
              "      <td>314.473663</td>\n",
              "    </tr>\n",
              "    <tr>\n",
              "      <th>2021-05-20</th>\n",
              "      <td>328.829987</td>\n",
              "      <td>314.294128</td>\n",
              "    </tr>\n",
              "    <tr>\n",
              "      <th>2021-05-21</th>\n",
              "      <td>327.010010</td>\n",
              "      <td>315.240356</td>\n",
              "    </tr>\n",
              "    <tr>\n",
              "      <th>2021-05-24</th>\n",
              "      <td>332.510010</td>\n",
              "      <td>315.921753</td>\n",
              "    </tr>\n",
              "    <tr>\n",
              "      <th>2021-05-25</th>\n",
              "      <td>332.970001</td>\n",
              "      <td>317.373566</td>\n",
              "    </tr>\n",
              "  </tbody>\n",
              "</table>\n",
              "<p>1076 rows × 2 columns</p>\n",
              "</div>"
            ],
            "text/plain": [
              "                 Close  Predictions\n",
              "Date                               \n",
              "2017-02-15  129.289993   129.651855\n",
              "2017-02-16  129.250000   130.151642\n",
              "2017-02-17  129.809998   130.568115\n",
              "2017-02-21  130.449997   130.977112\n",
              "2017-02-22  130.500000   131.420258\n",
              "...                ...          ...\n",
              "2021-05-19  322.589996   314.473663\n",
              "2021-05-20  328.829987   314.294128\n",
              "2021-05-21  327.010010   315.240356\n",
              "2021-05-24  332.510010   315.921753\n",
              "2021-05-25  332.970001   317.373566\n",
              "\n",
              "[1076 rows x 2 columns]"
            ]
          },
          "metadata": {
            "tags": []
          },
          "execution_count": 26
        }
      ]
    }
  ]
}